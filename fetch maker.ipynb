{
 "cells": [
  {
   "cell_type": "code",
   "execution_count": 1,
   "id": "6db83bfe",
   "metadata": {},
   "outputs": [],
   "source": [
    "import numpy as np\n",
    "import fetchmaker\n",
    "from scipy.stats import binom_test, f_oneway, chi2_contingency\n",
    "from statsmodels.stats.multicomp import pairwise_tukeyhsd\n"
   ]
  },
  {
   "cell_type": "code",
   "execution_count": 3,
   "id": "c8416cdb",
   "metadata": {},
   "outputs": [
    {
     "name": "stdout",
     "output_type": "stream",
     "text": [
      "4.2361\n",
      "2.0647536874891395\n",
      "0.5811780106238098\n",
      "3.276415588274815e-17\n",
      " Multiple Comparison of Means - Tukey HSD, FWER=0.05 \n",
      "=====================================================\n",
      " group1  group2 meandiff p-adj   lower  upper  reject\n",
      "-----------------------------------------------------\n",
      "pitbull terrier   -13.24  0.001 -16.728 -9.752   True\n",
      "pitbull whippet    -3.34 0.0639  -6.828  0.148  False\n",
      "terrier whippet      9.9  0.001   6.412 13.388   True\n",
      "-----------------------------------------------------\n",
      "[[17, 10], [13, 36], [8, 6], [52, 41], [10], [7]]\n"
     ]
    },
    {
     "name": "stderr",
     "output_type": "stream",
     "text": [
      "C:\\Users\\Trainee-Judah\\anaconda3\\lib\\site-packages\\numpy\\core\\_asarray.py:102: VisibleDeprecationWarning: Creating an ndarray from ragged nested sequences (which is a list-or-tuple of lists-or-tuples-or ndarrays with different lengths or shapes) is deprecated. If you meant to do this, you must specify 'dtype=object' when creating the ndarray.\n",
      "  return array(a, dtype, copy=False, order=order)\n"
     ]
    },
    {
     "ename": "TypeError",
     "evalue": "'<' not supported between instances of 'list' and 'int'",
     "output_type": "error",
     "traceback": [
      "\u001b[1;31m---------------------------------------------------------------------------\u001b[0m",
      "\u001b[1;31mTypeError\u001b[0m                                 Traceback (most recent call last)",
      "\u001b[1;32m<ipython-input-3-2a08be37e20e>\u001b[0m in \u001b[0;36m<module>\u001b[1;34m\u001b[0m\n\u001b[0;32m     37\u001b[0m \u001b[1;33m\u001b[0m\u001b[0m\n\u001b[0;32m     38\u001b[0m \u001b[0mprint\u001b[0m\u001b[1;33m(\u001b[0m\u001b[0mcolor_table\u001b[0m\u001b[1;33m)\u001b[0m\u001b[1;33m\u001b[0m\u001b[1;33m\u001b[0m\u001b[0m\n\u001b[1;32m---> 39\u001b[1;33m \u001b[0m_\u001b[0m\u001b[1;33m,\u001b[0m \u001b[0mcolor_pval\u001b[0m\u001b[1;33m,\u001b[0m \u001b[0m_\u001b[0m \u001b[1;33m,\u001b[0m \u001b[0m_\u001b[0m \u001b[1;33m=\u001b[0m \u001b[0mchi2_contingency\u001b[0m\u001b[1;33m(\u001b[0m\u001b[0mcolor_table\u001b[0m\u001b[1;33m)\u001b[0m\u001b[1;33m\u001b[0m\u001b[1;33m\u001b[0m\u001b[0m\n\u001b[0m\u001b[0;32m     40\u001b[0m \u001b[1;33m\u001b[0m\u001b[0m\n\u001b[0;32m     41\u001b[0m \u001b[0mprint\u001b[0m\u001b[1;33m(\u001b[0m\u001b[0mcolor_pval\u001b[0m\u001b[1;33m)\u001b[0m\u001b[1;33m\u001b[0m\u001b[1;33m\u001b[0m\u001b[0m\n",
      "\u001b[1;32m~\\anaconda3\\lib\\site-packages\\scipy\\stats\\contingency.py\u001b[0m in \u001b[0;36mchi2_contingency\u001b[1;34m(observed, correction, lambda_)\u001b[0m\n\u001b[0;32m    240\u001b[0m     \"\"\"\n\u001b[0;32m    241\u001b[0m     \u001b[0mobserved\u001b[0m \u001b[1;33m=\u001b[0m \u001b[0mnp\u001b[0m\u001b[1;33m.\u001b[0m\u001b[0masarray\u001b[0m\u001b[1;33m(\u001b[0m\u001b[0mobserved\u001b[0m\u001b[1;33m)\u001b[0m\u001b[1;33m\u001b[0m\u001b[1;33m\u001b[0m\u001b[0m\n\u001b[1;32m--> 242\u001b[1;33m     \u001b[1;32mif\u001b[0m \u001b[0mnp\u001b[0m\u001b[1;33m.\u001b[0m\u001b[0many\u001b[0m\u001b[1;33m(\u001b[0m\u001b[0mobserved\u001b[0m \u001b[1;33m<\u001b[0m \u001b[1;36m0\u001b[0m\u001b[1;33m)\u001b[0m\u001b[1;33m:\u001b[0m\u001b[1;33m\u001b[0m\u001b[1;33m\u001b[0m\u001b[0m\n\u001b[0m\u001b[0;32m    243\u001b[0m         \u001b[1;32mraise\u001b[0m \u001b[0mValueError\u001b[0m\u001b[1;33m(\u001b[0m\u001b[1;34m\"All values in `observed` must be nonnegative.\"\u001b[0m\u001b[1;33m)\u001b[0m\u001b[1;33m\u001b[0m\u001b[1;33m\u001b[0m\u001b[0m\n\u001b[0;32m    244\u001b[0m     \u001b[1;32mif\u001b[0m \u001b[0mobserved\u001b[0m\u001b[1;33m.\u001b[0m\u001b[0msize\u001b[0m \u001b[1;33m==\u001b[0m \u001b[1;36m0\u001b[0m\u001b[1;33m:\u001b[0m\u001b[1;33m\u001b[0m\u001b[1;33m\u001b[0m\u001b[0m\n",
      "\u001b[1;31mTypeError\u001b[0m: '<' not supported between instances of 'list' and 'int'"
     ]
    }
   ],
   "source": [
    "\n",
    "rottweiler_t1 = fetchmaker.get_tail_length(\"rottweiler\")\n",
    "print(np.mean(rottweiler_t1))\n",
    "print(np.std(rottweiler_t1))\n",
    "\n",
    "whippet_rescue = fetchmaker.get_is_rescue('whippet')\n",
    "\n",
    "num_whippet_rescues = np.count_nonzero(whippet_rescue)\n",
    "num_whippets = np.size(whippet_rescue)\n",
    "\n",
    "print(binom_test(num_whippet_rescues, num_whippets, 0.08))\n",
    "\n",
    "w = fetchmaker.get_weight('whippet')\n",
    "t = fetchmaker.get_weight('terrier')\n",
    "p = fetchmaker.get_weight('pitbull')\n",
    "print(f_oneway(w, t, p).pvalue)\n",
    "\n",
    "values = np.concatenate([w, t, p])\n",
    "labels = ['whippet'] * len(w) + ['terrier'] * len(t) + ['pitbull'] * len(p)\n",
    "# print(labels)\n",
    "print(pairwise_tukeyhsd(values, labels, 0.05))\n",
    "\n",
    "poodle_colors = fetchmaker.get_color('poodle')\n",
    "shihtzu_colors = fetchmaker.get_color(\"shihtzu\")\n",
    "\n",
    "color_table = [\n",
    "  [np.count_nonzero(poodle_colors=='black'),\n",
    "  np.count_nonzero(shihtzu_colors=='black')],\n",
    "  [np.count_nonzero(poodle_colors=='brown'),\n",
    "  np.count_nonzero(shihtzu_colors=='brown')],\n",
    "  [np.count_nonzero(poodle_colors=='gold'),\n",
    "  np.count_nonzero(shihtzu_colors=='gold')],\n",
    "  [np.count_nonzero(poodle_colors=='grey'),\n",
    "  np.count_nonzero(shihtzu_colors=='grey')],\n",
    "  [np.count_nonzero(poodle_colors=='white')],\n",
    "  [np.count_nonzero(shihtzu_colors=='white')]\n",
    "]\n",
    "\n",
    "print(color_table)\n",
    "_, color_pval, _ , _ = chi2_contingency(color_table)\n",
    "\n",
    "print(color_pval)"
   ]
  },
  {
   "cell_type": "code",
   "execution_count": null,
   "id": "edab03f4",
   "metadata": {},
   "outputs": [],
   "source": []
  }
 ],
 "metadata": {
  "kernelspec": {
   "display_name": "Python 3",
   "language": "python",
   "name": "python3"
  },
  "language_info": {
   "codemirror_mode": {
    "name": "ipython",
    "version": 3
   },
   "file_extension": ".py",
   "mimetype": "text/x-python",
   "name": "python",
   "nbconvert_exporter": "python",
   "pygments_lexer": "ipython3",
   "version": "3.8.8"
  }
 },
 "nbformat": 4,
 "nbformat_minor": 5
}
